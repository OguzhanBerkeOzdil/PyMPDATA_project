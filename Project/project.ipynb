{
 "cells": [
  {
   "cell_type": "code",
   "execution_count": 5,
   "id": "c299f47f",
   "metadata": {},
   "outputs": [],
   "source": [
    "# Block 1: Imports\n",
    "import numpy as np\n",
    "import matplotlib.pyplot as plt\n",
    "from PyMPDATA import Options, Stepper, Solver, ScalarField, VectorField\n",
    "from PyMPDATA.boundary_conditions import Periodic"
   ]
  },
  {
   "cell_type": "code",
   "execution_count": 6,
   "id": "31a23d6c",
   "metadata": {},
   "outputs": [
    {
     "name": "stdout",
     "output_type": "stream",
     "text": [
      "Grid: 1000 points, dx=1.0. dt=1.0, steps=1400, c=1.0, omega=0.0157\n"
     ]
    }
   ],
   "source": [
    "# Configure PyMPDATA options for 1D advection\n",
    "opts = Options(n_iters=2, infinite_gauge=True, nonoscillatory=True)  # 2 iterations for 2nd-order accuracy\n",
    "\n",
    "# Define domain and simulation parameters\n",
    "Lx = 1000.0       # domain length in arbitrary units (e.g., 0 to 1000)\n",
    "Nx = 1000         # number of grid cells\n",
    "dx = Lx / Nx      # grid spacing\n",
    "x = np.linspace(0, Lx, Nx, endpoint=False)  # cell-center coordinates\n",
    "c = 1.0           # advection speed (units of length per time)\n",
    "dt = 1.0          # time step size (e.g., 1 second)\n",
    "omega = 2 * np.pi / 400.0  # oscillator frequency (one period = 400 time units):contentReference[oaicite:4]{index=4}\n",
    "\n",
    "# Total simulation time and steps\n",
    "T = 1400.0        # total simulated time (e.g., 1400 s)\n",
    "n_steps = int(T / dt)\n",
    "print(f\"Grid: {Nx} points, dx={dx}. dt={dt}, steps={n_steps}, c={c}, omega={omega:.4f}\")\n"
   ]
  },
  {
   "cell_type": "code",
   "execution_count": 7,
   "id": "84c52cdc",
   "metadata": {},
   "outputs": [
    {
     "name": "stdout",
     "output_type": "stream",
     "text": [
      "Initial psi peak = 1.00 at x ~100.0, phi everywhere = 0.0\n"
     ]
    }
   ],
   "source": [
    "# Block 2: Initial Conditions\n",
    "# Define a raised cosine bump for psi between x=50 and x=150, zero elsewhere\n",
    "psi0 = np.zeros(Nx)\n",
    "mask = (x >= 50) & (x <= 150)\n",
    "# Cosine bump: psi = 0.5 * [1 + cos(pi * (x - center)/width)] within the interval\n",
    "psi0[mask] = 0.5 * (1 + np.cos(np.pi * (x[mask] - 100) / 50))\n",
    "psi0_max = psi0.max()\n",
    "psi0 /= psi0_max   # normalize peak to 1.0 for convenience\n",
    "phi0 = np.zeros(Nx)\n",
    "\n",
    "print(f\"Initial psi peak = {psi0.max():.2f} at x ~{x[np.argmax(psi0)]}, phi everywhere = {phi0.min():.1f}\")\n"
   ]
  },
  {
   "cell_type": "code",
   "execution_count": 8,
   "id": "3fdd1481",
   "metadata": {},
   "outputs": [],
   "source": [
    "# Block 3: Solver Setup (Stepper, Fields, Advector)\n",
    "# Create a Stepper for 1D advection with the specified options\n",
    "stepper = Stepper(options=opts, n_dims=1)\n",
    "\n",
    "# Initialize ScalarField objects for psi and phi, including halo for boundary conditions\n",
    "halo = stepper.options.n_halo  # number of halo points required by scheme\n",
    "bc = (Periodic(), Periodic())  # periodic BC at domain start and end\n",
    "psi_field = ScalarField(data=psi0, halo=halo, boundary_conditions=bc)\n",
    "phi_field = ScalarField(data=phi0, halo=halo, boundary_conditions=bc)\n",
    "\n",
    "# Set up the constant velocity field as a VectorField.\n",
    "# For 1D, advector data is a tuple with one numpy array (velocity in x-direction).\n",
    "# We fill it with the constant c at all staggered points (length Nx+1 for periodic domain).\n",
    "u = np.full(Nx+1, c)\n",
    "u_field = VectorField(data=(u,), halo=halo, boundary_conditions=bc)\n",
    "\n",
    "# Create Solver instances for psi and phi using the same stepper and velocity field\n",
    "solver_psi = Solver(stepper=stepper, advectee=psi_field, advector=u_field)\n",
    "solver_phi = Solver(stepper=stepper, advectee=phi_field, advector=u_field)\n"
   ]
  },
  {
   "cell_type": "code",
   "execution_count": 9,
   "id": "3d7ef02a",
   "metadata": {},
   "outputs": [
    {
     "name": "stdout",
     "output_type": "stream",
     "text": [
      "Explicit coupling simulation finished.\n"
     ]
    }
   ],
   "source": [
    "# Block 4: Simulation Loop – Explicit Euler Coupling\n",
    "# Reset fields to initial state\n",
    "psi_field.get()[:] = psi0  # note: use .get() to access the data array without halos\n",
    "phi_field.get()[:] = phi0\n",
    "\n",
    "# Time integration with explicit Euler coupling\n",
    "for n in range(n_steps):\n",
    "    psi_old = psi_field.get().copy()\n",
    "    phi_old = phi_field.get().copy()\n",
    "    # Advect psi and phi one step (MPDATA handles the advection)\n",
    "    solver_psi.advance(1)\n",
    "    solver_phi.advance(1)\n",
    "    # After this, psi_field and phi_field contain advected values (psi*, phi*)\n",
    "    psi_adv = psi_field.get()\n",
    "    phi_adv = phi_field.get()\n",
    "    # Explicit Euler coupling update\n",
    "    psi_field.get()[:] = psi_adv + dt * omega * phi_old    # ψ^{n+1}\n",
    "    phi_field.get()[:] = phi_adv - dt * omega * psi_old    # φ^{n+1}\n",
    "\n",
    "# Store results for analysis\n",
    "psi_explicit = psi_field.get().copy()\n",
    "phi_explicit = phi_field.get().copy()\n",
    "print(\"Explicit coupling simulation finished.\")\n"
   ]
  },
  {
   "cell_type": "code",
   "execution_count": 10,
   "id": "cbf1a632",
   "metadata": {},
   "outputs": [
    {
     "name": "stdout",
     "output_type": "stream",
     "text": [
      "Trapezoidal coupling simulation finished.\n"
     ]
    }
   ],
   "source": [
    "# Block 5: Simulation Loop – Semi-Implicit Trapezoidal Coupling\n",
    "# Reset fields to initial state\n",
    "psi_field.get()[:] = psi0\n",
    "phi_field.get()[:] = phi0\n",
    "\n",
    "# Time integration with trapezoidal (semi-implicit) coupling via Strang splitting\n",
    "for n in range(n_steps):\n",
    "    psi_old = psi_field.get().copy()\n",
    "    phi_old = phi_field.get().copy()\n",
    "    # Half-step explicit coupling\n",
    "    psi_half = psi_old + 0.5 * dt * omega * phi_old\n",
    "    phi_half = phi_old - 0.5 * dt * omega * psi_old\n",
    "    psi_field.get()[:] = psi_half\n",
    "    phi_field.get()[:] = phi_half\n",
    "    # Advect over full step with MPDATA\n",
    "    solver_psi.advance(1)\n",
    "    solver_phi.advance(1)\n",
    "    # After advection, get intermediate fields (denoted with * or \"half\" advected)\n",
    "    psi_star = psi_field.get().copy()\n",
    "    phi_star = phi_field.get().copy()\n",
    "    # Second half-step explicit coupling\n",
    "    psi_field.get()[:] = psi_star + 0.5 * dt * omega * phi_star\n",
    "    phi_field.get()[:] = phi_star - 0.5 * dt * omega * psi_star\n",
    "\n",
    "# Store results for analysis\n",
    "psi_trapez = psi_field.get().copy()\n",
    "phi_trapez = phi_field.get().copy()\n",
    "print(\"Trapezoidal coupling simulation finished.\")\n"
   ]
  },
  {
   "cell_type": "code",
   "execution_count": 11,
   "id": "d4ba4cf1",
   "metadata": {},
   "outputs": [
    {
     "data": {
      "image/png": "[encoded data removed]",
      "text/plain": [
       "<Figure size 1000x400 with 2 Axes>"
      ]
     },
     "metadata": {},
     "output_type": "display_data"
    }
   ],
   "source": [
    "# Block 6: Visualization of Results\n",
    "fig, axes = plt.subplots(1, 2, figsize=(10, 4), sharey=True)\n",
    "\n",
    "# Explicit Euler results\n",
    "ax = axes[0]\n",
    "ax.plot(x, psi_explicit, 'b-', label='$\\psi$ (explicit)')\n",
    "ax.plot(x, phi_explicit, 'r--', label='$\\phi$ (explicit)')\n",
    "ax.plot(x, psi0, 'k:', label='initial $\\psi$')\n",
    "ax.set_title(\"Explicit Euler Coupling (t = 1400)\")\n",
    "ax.set_xlabel(\"x\")\n",
    "ax.set_ylabel(\"Field amplitude\")\n",
    "ax.legend(loc=\"upper right\")\n",
    "\n",
    "# Trapezoidal results\n",
    "ax = axes[1]\n",
    "ax.plot(x, psi_trapez, 'b-', label='$\\psi$ (trapezoidal)')\n",
    "ax.plot(x, phi_trapez, 'r--', label='$\\phi$ (trapezoidal)')\n",
    "ax.plot(x, -psi0, 'k:', label='initial $\\psi$ (inverted)')\n",
    "ax.set_title(\"Semi-Implicit Trapezoidal Coupling (t = 1400)\")\n",
    "ax.set_xlabel(\"x\")\n",
    "ax.legend(loc=\"upper right\")\n",
    "\n",
    "plt.tight_layout()\n",
    "plt.savefig(\"oscillator_explicit_vs_trapez.png\")\n",
    "plt.show()\n"
   ]
  },
  {
   "cell_type": "code",
   "execution_count": 12,
   "id": "195ca669",
   "metadata": {},
   "outputs": [],
   "source": [
    "def run_explicit_euler_scheme(n_steps, psi0, phi0):\n",
    "    psi_field.get()[:] = psi0\n",
    "    phi_field.get()[:] = phi0\n",
    "    \n",
    "    for _ in range(n_steps):\n",
    "        s1 = Solver(stepper=stepper, advectee=psi_field, advector=u_field)\n",
    "        s2 = Solver(stepper=stepper, advectee=phi_field, advector=u_field)\n",
    "        \n",
    "        s1.advance(1)\n",
    "        s2.advance(1)\n",
    "        \n",
    "        po = psi_field.get().copy()\n",
    "        fo = phi_field.get().copy()\n",
    "        \n",
    "        psi_field.get()[:] += dt * omega * fo\n",
    "        phi_field.get()[:] -= dt * omega * po\n",
    "        \n",
    "    psi_ex = psi_field.get().copy()\n",
    "    phi_ex = phi_field.get().copy()\n",
    "    \n",
    "    return psi_ex, phi_ex, psi0\n",
    "\n",
    "\n",
    "def run_trapezoidal_scheme(n_steps):\n",
    "    psi_field.get()[:] = psi0\n",
    "    phi_field.get()[:] = phi0\n",
    "    \n",
    "    for _ in range(n_steps):\n",
    "        pn = psi_field.get().copy()\n",
    "        fn = phi_field.get().copy()\n",
    "        \n",
    "        psi_field.get()[:] = pn + 0.5 * dt * omega * fn\n",
    "        phi_field.get()[:] = fn - 0.5 * dt * omega * pn\n",
    "        \n",
    "        s1 = Solver(stepper=stepper, advectee=psi_field, advector=u_field)\n",
    "        s2 = Solver(stepper=stepper, advectee=phi_field, advector=u_field)\n",
    "        \n",
    "        s1.advance(1)\n",
    "        s2.advance(1)\n",
    "        \n",
    "        ps = psi_field.get().copy()\n",
    "        fs = phi_field.get().copy()\n",
    "        \n",
    "        psi_field.get()[:] = ps + 0.5 * dt * omega * fs\n",
    "        phi_field.get()[:] = fs - 0.5 * dt * omega * ps\n",
    "        \n",
    "    psi_tr = psi_field.get().copy()\n",
    "    phi_tr = phi_field.get().copy()\n",
    "    \n",
    "    return psi_tr, phi_tr, psi0\n"
   ]
  },
  {
   "cell_type": "markdown",
   "id": "87e8aba1",
   "metadata": {},
   "source": [
    "## Tests"
   ]
  },
  {
   "cell_type": "code",
   "execution_count": 24,
   "id": "d06dfd45",
   "metadata": {},
   "outputs": [],
   "source": [
    "import ipytest\n",
    "import pytest\n",
    "\n",
    "ipytest.autoconfig()"
   ]
  },
  {
   "cell_type": "code",
   "execution_count": 48,
   "id": "3b9b1f7d",
   "metadata": {},
   "outputs": [
    {
     "name": "stdout",
     "output_type": "stream",
     "text": [
      "\u001b[32m.\u001b[0m\u001b[32m.\u001b[0m\u001b[32m.\u001b[0m\n",
      "\u001b[32m\u001b[32m\u001b[1m3 passed\u001b[0m\u001b[32m in 0.02s\u001b[0m\u001b[0m\n"
     ]
    }
   ],
   "source": [
    "%%ipytest -s\n",
    "\n",
    "def rms(a, b):\n",
    "    return np.sqrt(np.mean((a - b)**2))\n",
    "\n",
    "\n",
    "def test_trapezoidal_scheme_psi_is_more_accurate_than_explicit_scheme_psi():\n",
    "    err_psi_tr = rms(psi_trapez, -psi0)\n",
    "    err_psi_ex = rms(psi_explicit, -psi0)\n",
    "    \n",
    "    assert err_psi_tr < err_psi_ex\n",
    "\n",
    "\n",
    "def test_trapezoidal_phi_err_is_near_zero():\n",
    "    err_phi_tr = rms(phi_trapez, np.zeros_like(phi_trapez))\n",
    "    \n",
    "    assert err_phi_tr < 1e-4\n",
    "    \n",
    "\n",
    "def test_initial_conditions():\n",
    "    \"\"\"\n",
    "    Verifies the initial state of psi0 and phi0.\n",
    "    - psi0 should have a peak of 1.0 at x=100.0.\n",
    "    - phi0 should be zero everywhere.\n",
    "    \"\"\"\n",
    "    psi0_peak_val = np.max(psi0)\n",
    "    \n",
    "    assert np.allclose(psi0_peak_val, 1.0), f'psi0 peak value is {psi0_peak_val:.4f}, expected ~1.0'\n",
    "\n",
    "    psi0_peak_idx = np.argmax(psi0)\n",
    "    psi0_peak_pos = x[psi0_peak_idx]\n",
    "    expected_peak_pos = 100.0\n",
    "    \n",
    "    assert np.allclose(psi0_peak_pos, expected_peak_pos), f\"psi0 peak position is {psi0_peak_pos:.4f}, expected {expected_peak_pos:.1f}\"\n",
    "    \n",
    "    assert np.all(phi0 == 0.0), f'phi0 is not all zeros. Sum of absolute values: {np.sum(np.abs(phi0)):.4e}'\n",
    "\n",
    "\n",
    "def test_advection_propagation():\n",
    "    \"\"\"\n",
    "    Verifies that the initial psi bump advects at speed 'c'.\n",
    "    Runs a short simulation (50 steps) using the explicit scheme.\n",
    "    Checks the new peak location of psi.\n",
    "    \"\"\"\n",
    "    short_n_steps = 50\n",
    "    initial_peak_pos_psi0 = x[np.argmax(psi0)]\n",
    "\n",
    "    psi_ex_short, _, = run_explicit_euler_scheme(short_n_steps, psi0, phi0)\n",
    "\n",
    "    expected_shift = c * dt * short_n_steps\n",
    "    expected_peak_pos_short = (initial_peak_pos_psi0 + expected_shift) % Lx\n",
    "\n",
    "    current_peak_pos_short = x[np.argmax(psi_ex_short)]\n",
    "    \n",
    "    err_msg = f'Psi peak (explicit, {short_n_steps} steps) at x={current_peak_pos_short:.2f}, expected ~{expected_peak_pos_short:.2f} (initial at {initial_peak_pos_psi0:.2f}, shift {expected_shift:.2f}).'\n",
    "    \n",
    "    assert np.allclose(current_peak_pos_short, expected_peak_pos_short, atol=5.0 * dx), err_msg"
   ]
  }
 ],
 "metadata": {
  "kernelspec": {
   "display_name": "Python 3",
   "language": "python",
   "name": "python3"
  },
  "language_info": {
   "codemirror_mode": {
    "name": "ipython",
    "version": 3
   },
   "file_extension": ".py",
   "mimetype": "text/x-python",
   "name": "python",
   "nbconvert_exporter": "python",
   "pygments_lexer": "ipython3",
   "version": "3.11.12"
  }
 },
 "nbformat": 4,
 "nbformat_minor": 5
}
